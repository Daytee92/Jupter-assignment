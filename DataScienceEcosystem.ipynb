{
 "cells": [
  {
   "cell_type": "markdown",
   "id": "a6f28269-6f7d-4f9f-af59-0747a26a8bda",
   "metadata": {},
   "source": [
    "# Data Science Tools and Ecosystem"
   ]
  },
  {
   "cell_type": "markdown",
   "id": "373f9237-2e91-46e8-8044-b83475abe70a",
   "metadata": {},
   "source": [
    "**Objectives:**\n",
    "\n",
    "- List open source tools in Data Science\n",
    "- Review popular programming languages used by Data Scientists\n",
    "- Identify the users and benefits of different programming languages"
   ]
  },
  {
   "cell_type": "markdown",
   "id": "d7f6d058-31d2-41c3-9f88-dc57a0bc39f9",
   "metadata": {},
   "source": [
    "### In this notebook, Data Science Tools and Ecosystem are summarized"
   ]
  },
  {
   "cell_type": "markdown",
   "id": "cf6769d9-76de-4061-a2c5-9355c079996e",
   "metadata": {
    "tags": []
   },
   "source": [
    "Some of the popular languages that Data Scientists use are:\n",
    "1. R\n",
    "2. SQL\n",
    "3. Python\n"
   ]
  },
  {
   "cell_type": "markdown",
   "id": "826eff23-48ea-4af7-a5f2-00ca29a78d16",
   "metadata": {},
   "source": [
    "Some of the commonly used libraries used by Data Scientists include:\n",
    "1. ggplot2\n",
    "2. Seaborn\n",
    "3. Apache spark\n",
    "4. Vegas\n"
   ]
  },
  {
   "cell_type": "markdown",
   "id": "73fda4a5-c03c-4e2b-a50f-13c2547bd0ac",
   "metadata": {},
   "source": [
    "| Data Science Tools |\n",
    "| -----------|\n",
    "| R studio |\n",
    "|Apache Spark|\n",
    "|Apache Hadoop|\n",
    "\n",
    "\n"
   ]
  },
  {
   "cell_type": "markdown",
   "id": "26b014e1-06bc-4a5d-b29d-294a4f5276bf",
   "metadata": {},
   "source": [
    "### Below are a few examples of evaluating arithmetic expressions in Python"
   ]
  },
  {
   "cell_type": "code",
   "execution_count": 3,
   "id": "2b3695af-6b36-40e6-93bf-19e4a0d18991",
   "metadata": {
    "tags": []
   },
   "outputs": [
    {
     "data": {
      "text/plain": [
       "17"
      ]
     },
     "execution_count": 3,
     "metadata": {},
     "output_type": "execute_result"
    }
   ],
   "source": [
    "# This is a simple arithmetic expression to multiply then add integers\n",
    "(3*4)+5"
   ]
  },
  {
   "cell_type": "code",
   "execution_count": 4,
   "id": "84c876d3-05e6-48b1-af50-758d62012505",
   "metadata": {
    "tags": []
   },
   "outputs": [
    {
     "data": {
      "text/plain": [
       "3.3333333333333335"
      ]
     },
     "execution_count": 4,
     "metadata": {},
     "output_type": "execute_result"
    }
   ],
   "source": [
    "# This will convert 200 minutes to hours by dividing by 60\n",
    "200/60"
   ]
  },
  {
   "cell_type": "markdown",
   "id": "2d83bd3d-933e-4bc9-a1ee-c4259ff21a31",
   "metadata": {},
   "source": [
    "## Author\n",
    "\n",
    "Taiwo Suara"
   ]
  },
  {
   "cell_type": "code",
   "execution_count": null,
   "id": "567d20bc-b1f9-498c-a4a0-77a15b1c272a",
   "metadata": {},
   "outputs": [],
   "source": []
  }
 ],
 "metadata": {
  "kernelspec": {
   "display_name": "Python",
   "language": "python",
   "name": "conda-env-python-py"
  },
  "language_info": {
   "codemirror_mode": {
    "name": "ipython",
    "version": 3
   },
   "file_extension": ".py",
   "mimetype": "text/x-python",
   "name": "python",
   "nbconvert_exporter": "python",
   "pygments_lexer": "ipython3",
   "version": "3.7.12"
  }
 },
 "nbformat": 4,
 "nbformat_minor": 5
}
